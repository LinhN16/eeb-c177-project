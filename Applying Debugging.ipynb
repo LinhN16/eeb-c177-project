{
 "cells": [
  {
   "cell_type": "code",
   "execution_count": 1,
   "metadata": {},
   "outputs": [],
   "source": [
    "import numpy\n",
    "import pandas\n",
    "import csv\n",
    "import matplotlib.pyplot as plt\n",
    "\n",
    "def np_from_csv(csv_file):\n",
    "    temp_data = pandas.read_csv(csv_file, header = None)\n",
    "    data = temp_data.to_numpy()\n",
    "    return data\n",
    "\n",
    "data = np_from_csv('pima-indians-diabetes.csv')\n"
   ]
  },
  {
   "cell_type": "code",
   "execution_count": 2,
   "metadata": {},
   "outputs": [],
   "source": [
    "def column_data(data):\n",
    "\n",
    "        a = input (\"Which column do you want to select? (ex: 0-8) \")\n",
    "        import pdb; pdb.set_trace()\n",
    "        a = int(a)\n",
    "        max_data = numpy.max(data[:, a])\n",
    "        min_data = numpy.min(data[:, a])\n",
    "        mean_data = numpy.mean(data[:, a])\n",
    "        median_data = numpy.median(data[:,a])\n",
    "\n",
    "        print (\"the max of the data is \" + str(max_data))\n",
    "        print (\"the min of the data is \" + str(min_data))\n",
    "        print (\"the mean of the data is \" + str(mean_data))\n",
    "        print (\"the median of the data is \" + str(median_data))"
   ]
  },
  {
   "cell_type": "code",
   "execution_count": 3,
   "metadata": {},
   "outputs": [
    {
     "name": "stdout",
     "output_type": "stream",
     "text": [
      "Which column do you want to select? (ex: 0-8) 3\n",
      "> <ipython-input-2-c95bdb125bd6>(5)column_data()\n",
      "-> a = int(a)\n",
      "(Pdb) n\n",
      "> <ipython-input-2-c95bdb125bd6>(6)column_data()\n",
      "-> max_data = numpy.max(data[:, a])\n",
      "(Pdb) n\n",
      "> <ipython-input-2-c95bdb125bd6>(7)column_data()\n",
      "-> min_data = numpy.min(data[:, a])\n",
      "(Pdb) max_data\n",
      "99.0\n",
      "(Pdb) min_data\n",
      "*** NameError: name 'min_data' is not defined\n",
      "(Pdb) n\n",
      "> <ipython-input-2-c95bdb125bd6>(8)column_data()\n",
      "-> mean_data = numpy.mean(data[:, a])\n",
      "(Pdb) min_data\n",
      "0.0\n",
      "(Pdb) n\n",
      "> <ipython-input-2-c95bdb125bd6>(9)column_data()\n",
      "-> median_data = numpy.median(data[:,a])\n",
      "(Pdb) n\n",
      "> <ipython-input-2-c95bdb125bd6>(11)column_data()\n",
      "-> print (\"the max of the data is \" + str(max_data))\n",
      "(Pdb) median_data\n",
      "23.0\n",
      "(Pdb) c\n",
      "the max of the data is 99.0\n",
      "the min of the data is 0.0\n",
      "the mean of the data is 20.536458333333332\n",
      "the median of the data is 23.0\n"
     ]
    }
   ],
   "source": [
    "column_data(data)"
   ]
  },
  {
   "cell_type": "code",
   "execution_count": null,
   "metadata": {},
   "outputs": [],
   "source": []
  }
 ],
 "metadata": {
  "kernelspec": {
   "display_name": "Python 3",
   "language": "python",
   "name": "python3"
  },
  "language_info": {
   "codemirror_mode": {
    "name": "ipython",
    "version": 3
   },
   "file_extension": ".py",
   "mimetype": "text/x-python",
   "name": "python",
   "nbconvert_exporter": "python",
   "pygments_lexer": "ipython3",
   "version": "3.7.5"
  }
 },
 "nbformat": 4,
 "nbformat_minor": 2
}
